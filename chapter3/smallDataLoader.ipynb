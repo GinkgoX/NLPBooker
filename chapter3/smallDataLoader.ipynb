{
 "cells": [
  {
   "cell_type": "markdown",
   "metadata": {},
   "source": [
    "### define hyper parmeters"
   ]
  },
  {
   "cell_type": "code",
   "execution_count": 1,
   "metadata": {},
   "outputs": [],
   "source": [
    "import argparse\n",
    "from argparse import Namespace\n",
    "arg = Namespace(\n",
    "    train_csv = './data/train.csv',\n",
    "    test_csv = './data/test.csv',\n",
    "    data_ratio = 0.1,\n",
    "    train_ratio = 0.7,\n",
    "    test_ratio = 0.15,\n",
    "    val_ratio = 0.15,\n",
    "    out_csv = './data/review.csv',\n",
    "    seed = 1337\n",
    ")"
   ]
  },
  {
   "cell_type": "markdown",
   "metadata": {},
   "source": [
    "### convert json file to csv file"
   ]
  },
  {
   "cell_type": "code",
   "execution_count": 2,
   "metadata": {},
   "outputs": [],
   "source": [
    "import csv\n",
    "import json\n",
    "import pandas as pd\n",
    "\n",
    "def json2csv(csv_file_path, json_file_path, n = 10):\n",
    "    #打开json文件,取出第一行列名\n",
    "    with open(json_file_path,'r',encoding='utf-8') as fin:\n",
    "        for line in fin:\n",
    "            line_contents = json.loads(line)\n",
    "            headers=line_contents.keys()\n",
    "            break\n",
    "        print(headers)\n",
    "    i = 0\n",
    "    #将json读成字典,其键值写入csv的列名,再将json文件中的values逐行写入csv文件\n",
    "    with open(csv_file_path, 'w', newline='',encoding='utf-8') as fout:\n",
    "        title = (['stars', 'text'])\n",
    "        writer=csv.DictWriter(fout, title)\n",
    "        writer.writeheader()\n",
    "        with open(json_file_path, 'r', encoding='utf-8') as fin:\n",
    "            for line in fin:\n",
    "                i += 1\n",
    "                line_contents = json.loads(line)\n",
    "                writer.writerow({'stars':int(line_contents['stars']), 'text':line_contents['text']})\n",
    "                if i == n:\n",
    "                    break\n",
    "            fin.close()\n",
    "        fout.close()"
   ]
  },
  {
   "cell_type": "markdown",
   "metadata": {},
   "source": [
    "### show result"
   ]
  },
  {
   "cell_type": "code",
   "execution_count": 3,
   "metadata": {},
   "outputs": [
    {
     "output_type": "stream",
     "name": "stdout",
     "text": "dict_keys(['review_id', 'user_id', 'business_id', 'stars', 'useful', 'funny', 'cool', 'text', 'date'])\n   stars                                               text\n0      2  As someone who has worked with many museums, I...\n1      1  I am actually horrified this place is still in...\n2      5  I love Deagan's. I do. I really do. The atmosp...\n3      1  Dismal, lukewarm, defrosted-tasting \"TexMex\" g...\n4      4  Oh happy day, finally have a Canes near my cas...\n"
    }
   ],
   "source": [
    "json_file_path='./data/yelp_academic_dataset_review.json'\n",
    "csv_file_path='./data/yelp_academic_dataset_review.csv'\n",
    "json2csv(csv_file_path, json_file_path, 500)\n",
    "train_reviews = pd.read_csv(csv_file_path)\n",
    "print(train_reviews.head())"
   ]
  },
  {
   "cell_type": "code",
   "execution_count": 4,
   "metadata": {},
   "outputs": [
    {
     "output_type": "execute_result",
     "data": {
      "text/plain": "5    217\n4    115\n1     73\n2     51\n3     44\nName: stars, dtype: int64"
     },
     "metadata": {},
     "execution_count": 4
    }
   ],
   "source": [
    "train_reviews.stars.value_counts()"
   ]
  },
  {
   "cell_type": "code",
   "execution_count": 5,
   "metadata": {},
   "outputs": [
    {
     "output_type": "execute_result",
     "data": {
      "text/plain": "{1, 2, 3, 4, 5}"
     },
     "metadata": {},
     "execution_count": 5
    }
   ],
   "source": [
    "set(train_reviews.stars)"
   ]
  },
  {
   "cell_type": "markdown",
   "metadata": {},
   "source": [
    "### split dataset"
   ]
  },
  {
   "cell_type": "code",
   "execution_count": 6,
   "metadata": {
    "tags": [
     "outputPrepend"
    ]
   },
   "outputs": [
    {
     "output_type": "stream",
     "name": "stdout",
     "text": "73\n124\n168\n283\n500\n"
    }
   ],
   "source": [
    "import collections\n",
    "import numpy as np\n",
    "\n",
    "by_rating = collections.defaultdict(list)\n",
    "for _, row in train_reviews.iterrows():\n",
    "    by_rating[row.stars].append(row.to_dict())\n",
    "\n",
    "# #split dataset\n",
    "final_list = []\n",
    "np.random.seed(arg.seed)\n",
    "for _, item_list in sorted(by_rating.items()):\n",
    "    np.random.shuffle(item_list)\n",
    "    n_total = len(item_list)\n",
    "    n_train = int(arg.train_ratio * n_total)\n",
    "    n_val = int(arg.val_ratio * n_total)\n",
    "    n_test = int(arg.test_ratio * n_total)\n",
    "    for item in item_list[:n_train]:\n",
    "        item['split'] = 'train'\n",
    "    for item in item_list[n_train:n_train+n_val]:\n",
    "        item['split'] = 'val'\n",
    "    for item in item_list[n_train+n_val:n_train+n_val+n_test]:\n",
    "        item['split'] = 'test'\n",
    "    final_list.extend(item_list)\n",
    "    print(len(final_list))\n",
    "final_review = pd.DataFrame(final_list)"
   ]
  },
  {
   "cell_type": "code",
   "execution_count": 8,
   "metadata": {},
   "outputs": [
    {
     "output_type": "execute_result",
     "data": {
      "text/plain": "train    347\nval       72\ntest      72\nName: split, dtype: int64"
     },
     "metadata": {},
     "execution_count": 8
    }
   ],
   "source": [
    "final_review.split.value_counts()"
   ]
  },
  {
   "cell_type": "code",
   "execution_count": 13,
   "metadata": {},
   "outputs": [
    {
     "output_type": "execute_result",
     "data": {
      "text/plain": "5    217\n4    115\n1     73\n2     51\n3     44\nName: stars, dtype: int64"
     },
     "metadata": {},
     "execution_count": 13
    }
   ],
   "source": [
    "final_review.stars.value_counts()"
   ]
  },
  {
   "cell_type": "code",
   "execution_count": 11,
   "metadata": {},
   "outputs": [],
   "source": [
    "import re\n",
    "def preprocess_text(text):\n",
    "    text = text.lower()\n",
    "    text = re.sub(r'([.,!?])', r'\\1', text)\n",
    "    text = re.sub(r'[^a-zA-Z.,!?]+', r' ', text)\n",
    "    return text\n",
    "# text = 'As someone who has worked with many museums, I was eager to visit this gallery on my most recent trip to Las Vegas. When I saw they would be showing infamous eggs of the House of Faberge from the Virginia Museum of Fine Arts (VMFA), I knew I had to go!'\n",
    "# text = preprocess_text(text)\n",
    "# print(text)"
   ]
  },
  {
   "cell_type": "code",
   "execution_count": 14,
   "metadata": {},
   "outputs": [
    {
     "output_type": "execute_result",
     "data": {
      "text/plain": "   split  stars                                               text\n0  train      1  I ordered a pizza at 4:49. Got an email that s...\n1  train      1  I had explicitly explained to your manager tha...\n2  train      1  I placed a custom order on 30 August. I was to...\n3  train      1  I called Garcia Bail Bonds and when the call w...\n4  train      1  The copy and print center here is just so horr...",
      "text/html": "<div>\n<style scoped>\n    .dataframe tbody tr th:only-of-type {\n        vertical-align: middle;\n    }\n\n    .dataframe tbody tr th {\n        vertical-align: top;\n    }\n\n    .dataframe thead th {\n        text-align: right;\n    }\n</style>\n<table border=\"1\" class=\"dataframe\">\n  <thead>\n    <tr style=\"text-align: right;\">\n      <th></th>\n      <th>split</th>\n      <th>stars</th>\n      <th>text</th>\n    </tr>\n  </thead>\n  <tbody>\n    <tr>\n      <th>0</th>\n      <td>train</td>\n      <td>1</td>\n      <td>I ordered a pizza at 4:49. Got an email that s...</td>\n    </tr>\n    <tr>\n      <th>1</th>\n      <td>train</td>\n      <td>1</td>\n      <td>I had explicitly explained to your manager tha...</td>\n    </tr>\n    <tr>\n      <th>2</th>\n      <td>train</td>\n      <td>1</td>\n      <td>I placed a custom order on 30 August. I was to...</td>\n    </tr>\n    <tr>\n      <th>3</th>\n      <td>train</td>\n      <td>1</td>\n      <td>I called Garcia Bail Bonds and when the call w...</td>\n    </tr>\n    <tr>\n      <th>4</th>\n      <td>train</td>\n      <td>1</td>\n      <td>The copy and print center here is just so horr...</td>\n    </tr>\n  </tbody>\n</table>\n</div>"
     },
     "metadata": {},
     "execution_count": 14
    }
   ],
   "source": [
    "final_review.head()"
   ]
  },
  {
   "cell_type": "code",
   "execution_count": 15,
   "metadata": {},
   "outputs": [],
   "source": [
    "final_review.text = final_review.text.apply(preprocess_text)"
   ]
  },
  {
   "cell_type": "code",
   "execution_count": 16,
   "metadata": {},
   "outputs": [],
   "source": [
    "final_review['stars'] = final_review.stars.apply({1:'negative', 2:'negative', 3:'positive', 4:'positive', 5:'positive'}.get)"
   ]
  },
  {
   "cell_type": "code",
   "execution_count": 18,
   "metadata": {},
   "outputs": [],
   "source": [
    "final_review.to_csv(arg.out_csv, index=False)"
   ]
  }
 ],
 "metadata": {
  "language_info": {
   "codemirror_mode": {
    "name": "ipython",
    "version": 3
   },
   "file_extension": ".py",
   "mimetype": "text/x-python",
   "name": "python",
   "nbconvert_exporter": "python",
   "pygments_lexer": "ipython3",
   "version": "3.6.5-final"
  },
  "orig_nbformat": 2,
  "kernelspec": {
   "name": "python3",
   "display_name": "Python 3"
  }
 },
 "nbformat": 4,
 "nbformat_minor": 2
}